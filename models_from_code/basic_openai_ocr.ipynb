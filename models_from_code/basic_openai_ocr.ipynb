{
 "cells": [
  {
   "cell_type": "code",
   "execution_count": null,
   "id": "513febf7",
   "metadata": {},
   "outputs": [],
   "source": [
    "%pip install mlflow OpenAI -qU"
   ]
  },
  {
   "cell_type": "code",
   "execution_count": null,
   "id": "f64768f0",
   "metadata": {},
   "outputs": [],
   "source": [
    "import mlflow\n",
    "from openai import OpenAI"
   ]
  },
  {
   "cell_type": "code",
   "execution_count": null,
   "id": "36cc311f",
   "metadata": {},
   "outputs": [],
   "source": [
    "mlflow.openai.autolog()\n",
    "\n",
    "client = OpenAI()\n",
    "\n",
    "system_prompt = \"\"\"You are an expert at Optical Character Recognition (OCR). Extract the words, their label, links, and ids.\"\"\"\n",
    "base64_image = get_image(random_file, encode_as_str=True)\n",
    "\n",
    "completion = client.chat.completions.create(\n",
    "    model=\"gpt-4o\",\n",
    "    messages=[\n",
    "        {\"role\": \"system\", \"content\": system_prompt},\n",
    "        {\n",
    "            \"role\": \"user\",\n",
    "            \"content\": [\n",
    "                {\"type\": \"text\", \"text\": \"what's in this image?\"},\n",
    "                {\n",
    "                    \"type\": \"image_url\",\n",
    "                    \"image_url\": {\n",
    "                        \"url\": f\"data:image/jpeg;base64,{base64_image}\",\n",
    "                    },\n",
    "                },\n",
    "            ],\n",
    "        },\n",
    "    ],\n",
    ")\n",
    "\n",
    "print(completion.choices[0].message.content)"
   ]
  }
 ],
 "metadata": {
  "language_info": {
   "name": "python"
  }
 },
 "nbformat": 4,
 "nbformat_minor": 5
}
