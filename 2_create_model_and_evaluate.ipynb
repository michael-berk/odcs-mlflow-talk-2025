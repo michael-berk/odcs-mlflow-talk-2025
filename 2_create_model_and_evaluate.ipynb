{
 "cells": [
  {
   "cell_type": "code",
   "execution_count": 1,
   "id": "57d37916",
   "metadata": {},
   "outputs": [
    {
     "name": "stdout",
     "output_type": "stream",
     "text": [
      "Note: you may need to restart the kernel to use updated packages.\n"
     ]
    }
   ],
   "source": [
    "%pip install -r requirements.txt -qU"
   ]
  },
  {
   "cell_type": "code",
   "execution_count": 12,
   "id": "3ba98972",
   "metadata": {},
   "outputs": [],
   "source": [
    "import mlflow\n",
    "import os\n",
    "from getpass import getpass\n",
    "import pandas as pd\n",
    "from openai import OpenAI\n",
    "from utils import get_random_files, get_image, get_json, _set_openai_api_key_for_demo\n",
    "\n",
    "# Set MLflow tracking URI to cwd()\n",
    "mlflow.set_tracking_uri(os.getcwd() + \"/mlruns\")\n",
    "mlflow.set_experiment(\"evaluation\")\n",
    "\n",
    "# Get API key securely\n",
    "if (not _set_openai_api_key_for_demo()) and (not os.getenv(\"OPENAI_API_KEY\")):\n",
    "    os.environ[\"OPENAI_API_KEY\"] = getpass(\"Your OpenAI API Key: \")"
   ]
  },
  {
   "cell_type": "markdown",
   "id": "5e52c363",
   "metadata": {},
   "source": [
    "## Step 1 - Determine Accuracy"
   ]
  },
  {
   "cell_type": "code",
   "execution_count": 3,
   "id": "d37cf1a4",
   "metadata": {},
   "outputs": [],
   "source": [
    "_files = get_random_files(n=5)\n",
    "images = [get_image(file, encode_as_str=True) for file in _files]\n",
    "jsons = [get_json(file) for file in _files]\n",
    "\n",
    "mlflow.openai.autolog()\n",
    "client = OpenAI()"
   ]
  },
  {
   "cell_type": "code",
   "execution_count": 30,
   "id": "b7716143",
   "metadata": {},
   "outputs": [
    {
     "name": "stderr",
     "output_type": "stream",
     "text": [
      "INFO:httpx:HTTP Request: POST https://api.openai.com/v1/chat/completions \"HTTP/1.1 200 OK\"\n"
     ]
    },
    {
     "name": "stdout",
     "output_type": "stream",
     "text": [
      "The image is a \"Corrected Form\" from the Commonwealth of Massachusetts, Office of Campaign and Political Finance. It's a Report of Corporate Treasurer (Form CPF 22), formerly CPF 10.\n",
      "\n",
      "Here are some key details from the document:\n",
      "\n",
      "- **Name of Treasurer:** M. Alfred Peterson; Assistant Treasurer: Peter J. Marzullo\n",
      "- **Name of Corporation:** Lorillard Tobacco Company\n",
      "- **Address of Corporation:** One Park Avenue, New York, NY 10016-5895\n",
      "- **Question No. 1:** Related to Tobacco Excise Tax Increase\n",
      "- **Submitted to the voters on:** November 3, 1992, in Massachusetts\n",
      "- **Reporting Period:** October 16, 1992, to November 5, 1992\n",
      "- **Signed by:** Peter J. Marzullo, Assistant Treasurer, dated March 30, 1993\n",
      "\n",
      "**Expenditures or Disbursements:**\n",
      "- **10/26/92:** Committee Against Unfair Taxes, P.O. Box 5979, Boston, MA 02114, for opposing Tax Increase, Amount: $28,687.00\n",
      "- **10/30/92:** Committee Against Unfair Taxes, P.O. Box 5979, Boston, MA 02114, for opposing Tax Increase, Amount: $19,603.00\n",
      "\n",
      "**Total Expenditures or Disbursements on This Report:** $48,290.00\n",
      "**Total Expenditures or Disbursements Previously Reported:** $508,684.00\n",
      "**Total Expenditures or Disbursements to Date:** $556,974.00\n"
     ]
    }
   ],
   "source": [
    "system_prompt = \"\"\"You are an expert at Optical Character Recognition (OCR). Extract the questions and answers from the image.\"\"\"\n",
    "\n",
    "def get_completion(inputs: str) -> str:\n",
    "    completion = client.chat.completions.create(\n",
    "        model=\"gpt-4o\",\n",
    "        messages=[\n",
    "            {\"role\": \"system\", \"content\": system_prompt},\n",
    "            {\n",
    "                \"role\": \"user\",\n",
    "                \"content\": [\n",
    "                    { \"type\": \"text\", \"text\": \"what's in this image?\" },\n",
    "                    {\n",
    "                        \"type\": \"image_url\",\n",
    "                        \"image_url\": {\n",
    "                            \"url\": f\"data:image/jpeg;base64,{inputs}\",\n",
    "                        },\n",
    "                    },\n",
    "                ],\n",
    "            }\n",
    "        ],\n",
    "    )\n",
    "\n",
    "    return completion.choices[0].message.content\n",
    "\n",
    "with mlflow.start_run() as run:\n",
    "    predicted = get_completion(images[0])\n",
    "    print(predicted)"
   ]
  },
  {
   "cell_type": "code",
   "execution_count": 31,
   "id": "8fae095d",
   "metadata": {},
   "outputs": [
    {
     "data": {
      "text/plain": [
       "{'*Note:': 'If this expenditure is made to influence a local ballot question, a copy of this form should be filed with the city or town clerk or election commission.',\n",
       " '19': '92',\n",
       " 'Address': 'P. O. Box 5979. Boston, MA 02114',\n",
       " 'Date': 'March 30, 1993',\n",
       " 'Purpose': 'Oppose Tax increas',\n",
       " 'Final': '☑',\n",
       " 'File with:': 'Director, Office of Campaign & Political Finance One Ashburton Place, Boston, MA 02108',\n",
       " '1. Name of Treasurer': 'M. Alfred Peterson; Assistant Treasurer Peter J. Marzullo',\n",
       " '2. Name of Corporation': 'Lorillard Tobacco Company',\n",
       " '3. Address of Corporation': 'One Park Avenue New York. NY 10016 -5895',\n",
       " '4. Question No.': '1 relating to Tobacco Excise Tax Increase',\n",
       " 'submitted to the voters on': '1992',\n",
       " 'on the': 'Massachusetts',\n",
       " 'Reporting Period Beginning': 'October 16,',\n",
       " 'and Ending': 'November 5. 1992',\n",
       " 'Signed under the penalties of perjury.': '',\n",
       " 'Date Paid': '10/ 30/ 92',\n",
       " 'To Whom Paid (Alphabetical Listing Mandatory)': 'Committee Against Unfair Taxes',\n",
       " 'Amount or Value**': '19, 503 00',\n",
       " 'Total Expenditures or Disbursements on This Report': '48, 585 00',\n",
       " 'Total Expenditures for Disbursements Previously Reported': '508. 789 00',\n",
       " 'Total Expenditures or Disbursements to Date': '556 874. 00'}"
      ]
     },
     "execution_count": 31,
     "metadata": {},
     "output_type": "execute_result"
    }
   ],
   "source": [
    "jsons[0]"
   ]
  },
  {
   "cell_type": "code",
   "execution_count": 32,
   "id": "ec54b6ef",
   "metadata": {},
   "outputs": [
    {
     "data": {
      "text/plain": [
       "False"
      ]
     },
     "execution_count": 32,
     "metadata": {},
     "output_type": "execute_result"
    }
   ],
   "source": [
    "predicted == jsons[0]"
   ]
  },
  {
   "cell_type": "markdown",
   "id": "bb9a8c0a",
   "metadata": {},
   "source": [
    "## Step 2: MLflow Evaluate"
   ]
  },
  {
   "cell_type": "code",
   "execution_count": 35,
   "id": "d2f9a459",
   "metadata": {},
   "outputs": [
    {
     "name": "stdout",
     "output_type": "stream",
     "text": [
      "Note: you may need to restart the kernel to use updated packages.\n"
     ]
    }
   ],
   "source": [
    "%pip install tiktoken aiohttp -qU"
   ]
  },
  {
   "cell_type": "code",
   "execution_count": 39,
   "id": "398b63a1",
   "metadata": {},
   "outputs": [
    {
     "name": "stderr",
     "output_type": "stream",
     "text": [
      "2025/05/12 23:22:37 INFO mlflow.models.evaluation.evaluators.default: Computing model predictions.\n",
      "INFO:httpx:HTTP Request: POST https://api.openai.com/v1/chat/completions \"HTTP/1.1 200 OK\"\n",
      "INFO:httpx:HTTP Request: POST https://api.openai.com/v1/chat/completions \"HTTP/1.1 200 OK\"\n",
      "INFO:httpx:HTTP Request: POST https://api.openai.com/v1/chat/completions \"HTTP/1.1 200 OK\"\n",
      "INFO:httpx:HTTP Request: POST https://api.openai.com/v1/chat/completions \"HTTP/1.1 200 OK\"\n",
      "INFO:httpx:HTTP Request: POST https://api.openai.com/v1/chat/completions \"HTTP/1.1 200 OK\"\n",
      "2025/05/12 23:23:15 INFO mlflow.models.evaluation.default_evaluator: Testing metrics on first row...\n",
      "2025/05/12 23:23:15 WARNING mlflow.metrics.metric_definitions: Failed to load 'toxicity' metric (error: ModuleNotFoundError(\"No module named 'evaluate'\")), skipping metric logging.\n",
      "2025/05/12 23:23:15 WARNING mlflow.models.evaluation.utils.metric: Did not log metric 'toxicity' at index 1 in the `extra_metrics` parameter because it returned None.\n",
      "2025/05/12 23:23:15 WARNING mlflow.metrics.metric_definitions: Failed to import textstat for flesch kincaid metric, skipping metric logging. Please install textstat using 'pip install textstat'.\n",
      "2025/05/12 23:23:15 WARNING mlflow.models.evaluation.utils.metric: Did not log metric 'flesch_kincaid_grade_level' at index 2 in the `extra_metrics` parameter because it returned None.\n",
      "2025/05/12 23:23:15 WARNING mlflow.metrics.metric_definitions: Failed to import textstat for automated readability index metric, skipping metric logging. Please install textstat using 'pip install textstat'.\n",
      "2025/05/12 23:23:15 WARNING mlflow.models.evaluation.utils.metric: Did not log metric 'ari_grade_level' at index 3 in the `extra_metrics` parameter because it returned None.\n",
      "100%|██████████| 1/1 [00:04<00:00,  4.69s/it]\n",
      "2025/05/12 23:23:19 WARNING mlflow.metrics.metric_definitions: Failed to load 'toxicity' metric (error: ModuleNotFoundError(\"No module named 'evaluate'\")), skipping metric logging.\n",
      "2025/05/12 23:23:19 WARNING mlflow.models.evaluation.utils.metric: Did not log metric 'toxicity' at index 1 in the `extra_metrics` parameter because it returned None.\n",
      "2025/05/12 23:23:19 WARNING mlflow.metrics.metric_definitions: Failed to import textstat for flesch kincaid metric, skipping metric logging. Please install textstat using 'pip install textstat'.\n",
      "2025/05/12 23:23:19 WARNING mlflow.models.evaluation.utils.metric: Did not log metric 'flesch_kincaid_grade_level' at index 2 in the `extra_metrics` parameter because it returned None.\n",
      "2025/05/12 23:23:19 WARNING mlflow.metrics.metric_definitions: Failed to import textstat for automated readability index metric, skipping metric logging. Please install textstat using 'pip install textstat'.\n",
      "2025/05/12 23:23:19 WARNING mlflow.models.evaluation.utils.metric: Did not log metric 'ari_grade_level' at index 3 in the `extra_metrics` parameter because it returned None.\n",
      "100%|██████████| 5/5 [00:04<00:00,  1.20it/s]\n"
     ]
    }
   ],
   "source": [
    "from mlflow.metrics.genai import answer_correctness\n",
    "\n",
    "correct_format = mlflow.metrics.genai.make_genai_metric(\n",
    "    name=\"correct_format\",\n",
    "    definition=(\n",
    "        \"\"\"The answer is a list of dicts where keys are `question` and `answer`.\"\"\"\n",
    "    ),\n",
    "    grading_prompt=(\n",
    "        \"\"\"If formatted correctly, return 1. Otherwise, return 0.\"\"\"\n",
    "    ),\n",
    "    model=\"openai:/gpt-4o-mini\",\n",
    "    greater_is_better=True,\n",
    ")\n",
    "\n",
    "def batch_completion(df: pd.DataFrame) -> list[str]:\n",
    "    return [get_completion(image) for image in df[\"inputs\"]]\n",
    "\n",
    "eval_result = mlflow.evaluate(\n",
    "    model=batch_completion,\n",
    "    data=pd.DataFrame({\"inputs\": images, \"truth\": jsons}),\n",
    "    targets=\"truth\",\n",
    "    model_type=\"text\",\n",
    "    extra_metrics=[correct_format],\n",
    ")"
   ]
  },
  {
   "cell_type": "code",
   "execution_count": 40,
   "id": "351c157d",
   "metadata": {},
   "outputs": [
    {
     "name": "stderr",
     "output_type": "stream",
     "text": [
      "Downloading artifacts: 100%|██████████| 1/1 [00:00<00:00, 1131.46it/s]\n",
      "Downloading artifacts: 100%|██████████| 1/1 [00:00<00:00, 807.06it/s] \n"
     ]
    },
    {
     "data": {
      "text/html": [
       "<div>\n",
       "<style scoped>\n",
       "    .dataframe tbody tr th:only-of-type {\n",
       "        vertical-align: middle;\n",
       "    }\n",
       "\n",
       "    .dataframe tbody tr th {\n",
       "        vertical-align: top;\n",
       "    }\n",
       "\n",
       "    .dataframe thead th {\n",
       "        text-align: right;\n",
       "    }\n",
       "</style>\n",
       "<table border=\"1\" class=\"dataframe\">\n",
       "  <thead>\n",
       "    <tr style=\"text-align: right;\">\n",
       "      <th></th>\n",
       "      <th>inputs</th>\n",
       "      <th>truth</th>\n",
       "      <th>outputs</th>\n",
       "      <th>token_count</th>\n",
       "      <th>correct_format/v1/score</th>\n",
       "      <th>correct_format/v1/justification</th>\n",
       "    </tr>\n",
       "  </thead>\n",
       "  <tbody>\n",
       "    <tr>\n",
       "      <th>0</th>\n",
       "      <td>/9j/4AAQSkZJRgABAQAAAQABAAD/2wBDABQODxIPDRQSEB...</td>\n",
       "      <td>{'*Note:': 'If this expenditure is made to inf...</td>\n",
       "      <td>This image is a form titled \"REPORT OF CORPORA...</td>\n",
       "      <td>386</td>\n",
       "      <td>0</td>\n",
       "      <td>The output does not match the required format ...</td>\n",
       "    </tr>\n",
       "    <tr>\n",
       "      <th>1</th>\n",
       "      <td>/9j/4AAQSkZJRgABAQAAAQABAAD/2wBDABQODxIPDRQSEB...</td>\n",
       "      <td>{'Name:': 'Andy McGaan', 'No': '☑', 'Telecopie...</td>\n",
       "      <td>The image is a fax cover sheet from Hunton &amp; W...</td>\n",
       "      <td>87</td>\n",
       "      <td>0</td>\n",
       "      <td>The output does not match the required format ...</td>\n",
       "    </tr>\n",
       "    <tr>\n",
       "      <th>2</th>\n",
       "      <td>/9j/4AAQSkZJRgABAQAAAQABAAD/2wBDABQODxIPDRQSEB...</td>\n",
       "      <td>{}</td>\n",
       "      <td>The image is a \"Cigarette Report Form\" for col...</td>\n",
       "      <td>142</td>\n",
       "      <td>0</td>\n",
       "      <td>The output does not follow the required format...</td>\n",
       "    </tr>\n",
       "    <tr>\n",
       "      <th>3</th>\n",
       "      <td>/9j/4AAQSkZJRgABAQAAAQABAAD/2wBDABQODxIPDRQSEB...</td>\n",
       "      <td>{'TO:': 'Sam Zolot', 'FROM:': 'D. J. Landro', ...</td>\n",
       "      <td>The image is a \"Competitive Product Introducti...</td>\n",
       "      <td>226</td>\n",
       "      <td>0</td>\n",
       "      <td>The output does not follow the required format...</td>\n",
       "    </tr>\n",
       "    <tr>\n",
       "      <th>4</th>\n",
       "      <td>/9j/4AAQSkZJRgABAQAAAQABAAD/2wBDABQODxIPDRQSEB...</td>\n",
       "      <td>{'': 'J. D. Ergle and R. F. Dufresne', 'DATE':...</td>\n",
       "      <td>The image is a document titled \"Decision Tree ...</td>\n",
       "      <td>149</td>\n",
       "      <td>0</td>\n",
       "      <td>The output does not match the required format ...</td>\n",
       "    </tr>\n",
       "  </tbody>\n",
       "</table>\n",
       "</div>"
      ],
      "text/plain": [
       "                                              inputs  \\\n",
       "0  /9j/4AAQSkZJRgABAQAAAQABAAD/2wBDABQODxIPDRQSEB...   \n",
       "1  /9j/4AAQSkZJRgABAQAAAQABAAD/2wBDABQODxIPDRQSEB...   \n",
       "2  /9j/4AAQSkZJRgABAQAAAQABAAD/2wBDABQODxIPDRQSEB...   \n",
       "3  /9j/4AAQSkZJRgABAQAAAQABAAD/2wBDABQODxIPDRQSEB...   \n",
       "4  /9j/4AAQSkZJRgABAQAAAQABAAD/2wBDABQODxIPDRQSEB...   \n",
       "\n",
       "                                               truth  \\\n",
       "0  {'*Note:': 'If this expenditure is made to inf...   \n",
       "1  {'Name:': 'Andy McGaan', 'No': '☑', 'Telecopie...   \n",
       "2                                                 {}   \n",
       "3  {'TO:': 'Sam Zolot', 'FROM:': 'D. J. Landro', ...   \n",
       "4  {'': 'J. D. Ergle and R. F. Dufresne', 'DATE':...   \n",
       "\n",
       "                                             outputs  token_count  \\\n",
       "0  This image is a form titled \"REPORT OF CORPORA...          386   \n",
       "1  The image is a fax cover sheet from Hunton & W...           87   \n",
       "2  The image is a \"Cigarette Report Form\" for col...          142   \n",
       "3  The image is a \"Competitive Product Introducti...          226   \n",
       "4  The image is a document titled \"Decision Tree ...          149   \n",
       "\n",
       "   correct_format/v1/score                    correct_format/v1/justification  \n",
       "0                        0  The output does not match the required format ...  \n",
       "1                        0  The output does not match the required format ...  \n",
       "2                        0  The output does not follow the required format...  \n",
       "3                        0  The output does not follow the required format...  \n",
       "4                        0  The output does not match the required format ...  "
      ]
     },
     "execution_count": 40,
     "metadata": {},
     "output_type": "execute_result"
    }
   ],
   "source": [
    "eval_result.tables['eval_results_table']"
   ]
  },
  {
   "cell_type": "code",
   "execution_count": 41,
   "id": "7999d766",
   "metadata": {},
   "outputs": [
    {
     "name": "stdout",
     "output_type": "stream",
     "text": [
      "{'correct_format/v1/mean': np.float64(0.0), 'correct_format/v1/variance': np.float64(0.0), 'correct_format/v1/p90': np.float64(0.0)}\n"
     ]
    }
   ],
   "source": [
    "print(eval_result.metrics)"
   ]
  },
  {
   "cell_type": "markdown",
   "id": "704f6fcf",
   "metadata": {},
   "source": [
    "## Step 3: Go to the UI "
   ]
  },
  {
   "cell_type": "code",
   "execution_count": null,
   "id": "239f9b9e",
   "metadata": {},
   "outputs": [],
   "source": []
  }
 ],
 "metadata": {
  "kernelspec": {
   "display_name": "odsc-3.10",
   "language": "python",
   "name": "python3"
  },
  "language_info": {
   "codemirror_mode": {
    "name": "ipython",
    "version": 3
   },
   "file_extension": ".py",
   "mimetype": "text/x-python",
   "name": "python",
   "nbconvert_exporter": "python",
   "pygments_lexer": "ipython3",
   "version": "3.10.17"
  }
 },
 "nbformat": 4,
 "nbformat_minor": 5
}
