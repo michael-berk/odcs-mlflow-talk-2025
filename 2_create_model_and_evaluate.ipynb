{
 "cells": [
  {
   "cell_type": "code",
   "execution_count": 1,
   "id": "57d37916",
   "metadata": {},
   "outputs": [
    {
     "name": "stdout",
     "output_type": "stream",
     "text": [
      "Note: you may need to restart the kernel to use updated packages.\n"
     ]
    }
   ],
   "source": [
    "%pip install -r requirements.txt -qU"
   ]
  },
  {
   "cell_type": "code",
   "execution_count": 2,
   "id": "3ba98972",
   "metadata": {},
   "outputs": [
    {
     "name": "stderr",
     "output_type": "stream",
     "text": [
      "2025/05/12 23:58:07 INFO mlflow.tracking.fluent: Experiment with name 'evaluation' does not exist. Creating a new experiment.\n"
     ]
    }
   ],
   "source": [
    "import mlflow\n",
    "import os\n",
    "from getpass import getpass\n",
    "import pandas as pd\n",
    "from openai import OpenAI\n",
    "from utils import get_random_files, get_image, get_json, _set_openai_api_key_for_demo\n",
    "\n",
    "# Set MLflow tracking URI to cwd()\n",
    "mlflow.set_tracking_uri(os.getcwd() + \"/mlruns\")\n",
    "mlflow.set_experiment(\"evaluation\")\n",
    "\n",
    "# Get API key securely\n",
    "if (not _set_openai_api_key_for_demo()) and (not os.getenv(\"OPENAI_API_KEY\")):\n",
    "    os.environ[\"OPENAI_API_KEY\"] = getpass(\"Your OpenAI API Key: \")"
   ]
  },
  {
   "cell_type": "markdown",
   "id": "5e52c363",
   "metadata": {},
   "source": [
    "## Step 1 - Determine Accuracy"
   ]
  },
  {
   "cell_type": "code",
   "execution_count": 3,
   "id": "d37cf1a4",
   "metadata": {},
   "outputs": [],
   "source": [
    "_files = get_random_files(n=5)\n",
    "images = [get_image(file, encode_as_str=True) for file in _files]\n",
    "jsons = [get_json(file) for file in _files]\n",
    "\n",
    "mlflow.openai.autolog()\n",
    "client = OpenAI()"
   ]
  },
  {
   "cell_type": "code",
   "execution_count": 4,
   "id": "b7716143",
   "metadata": {},
   "outputs": [
    {
     "name": "stderr",
     "output_type": "stream",
     "text": [
      "INFO:httpx:HTTP Request: POST https://api.openai.com/v1/chat/completions \"HTTP/1.1 200 OK\"\n"
     ]
    },
    {
     "name": "stdout",
     "output_type": "stream",
     "text": [
      "The image is a document titled \"Maverick Specials - Progress Report\" from Lorillard Tobacco, dated December 12, 1996. It is addressed from F. Strickland to K. A. Sparrow. The submission date is marked as December 13.\n",
      "\n",
      "Sections in the document include:\n",
      "\n",
      "- **Geography**: Indicating that the report covers the full region.\n",
      "- **Distribution**: Listing direct accounts and chains within the region with 15 or more stores not stocking Maverick specials.\n",
      "\n",
      "The table includes:\n",
      "\n",
      "| Name of Account | No. of Stores | Name of Account | No. of Stores |\n",
      "|-----------------|---------------|-----------------|---------------|\n",
      "| K&B             | 180           | Sayle Oil       | 20            |\n",
      "| Delchamps       | 130           | Dantzler        | 19            |\n",
      "| Winn Dixie      | 55            | Southeast Foods | 18            |\n",
      "| Schwegmann      | 39            | Compass Foods   | 18            |\n",
      "| Autry Greer     | 36            | Bayou Foods     | 17            |\n",
      "| Double Quick    | 36            | Econ            | 16            |\n",
      "| Litco           | 23            |                 |               |\n",
      "| Huber Oil       | 23            |                 |               |\n",
      "| Morris Corp     | 22            |                 |               |\n",
      "\n",
      "The document concludes with \"11-Dec-96\" and \"MAVPROG Page 1 of 4\".\n"
     ]
    }
   ],
   "source": [
    "system_prompt = \"\"\"You are an expert at Optical Character Recognition (OCR). Extract the questions and answers from the image.\"\"\"\n",
    "\n",
    "def get_completion(inputs: str) -> str:\n",
    "    completion = client.chat.completions.create(\n",
    "        model=\"gpt-4o\",\n",
    "        messages=[\n",
    "            {\"role\": \"system\", \"content\": system_prompt},\n",
    "            {\n",
    "                \"role\": \"user\",\n",
    "                \"content\": [\n",
    "                    { \"type\": \"text\", \"text\": \"what's in this image?\" },\n",
    "                    {\n",
    "                        \"type\": \"image_url\",\n",
    "                        \"image_url\": {\n",
    "                            \"url\": f\"data:image/jpeg;base64,{inputs}\",\n",
    "                        },\n",
    "                    },\n",
    "                ],\n",
    "            }\n",
    "        ],\n",
    "    )\n",
    "\n",
    "    return completion.choices[0].message.content\n",
    "\n",
    "with mlflow.start_run() as run:\n",
    "    predicted = get_completion(images[0])\n",
    "    print(predicted)"
   ]
  },
  {
   "cell_type": "code",
   "execution_count": 5,
   "id": "8fae095d",
   "metadata": {},
   "outputs": [
    {
     "data": {
      "text/plain": [
       "{'TO:': 'K. A. Sparrow',\n",
       " 'FROM:': 'F. Strickland',\n",
       " 'SUBJECT:': 'MAVERICK SPECIALS- PROGRESS REPORT',\n",
       " 'FULL': 'x',\n",
       " 'DEC 13': 'X',\n",
       " 'NAME OF ACCOUNT': 'Econ',\n",
       " 'NO. OF STORES': '22',\n",
       " 'NO OF STORES': '16'}"
      ]
     },
     "execution_count": 5,
     "metadata": {},
     "output_type": "execute_result"
    }
   ],
   "source": [
    "jsons[0]"
   ]
  },
  {
   "cell_type": "code",
   "execution_count": 6,
   "id": "ec54b6ef",
   "metadata": {},
   "outputs": [
    {
     "data": {
      "text/plain": [
       "False"
      ]
     },
     "execution_count": 6,
     "metadata": {},
     "output_type": "execute_result"
    }
   ],
   "source": [
    "predicted == jsons[0]"
   ]
  },
  {
   "cell_type": "markdown",
   "id": "bb9a8c0a",
   "metadata": {},
   "source": [
    "## Step 2: MLflow Evaluate"
   ]
  },
  {
   "cell_type": "code",
   "execution_count": 7,
   "id": "d2f9a459",
   "metadata": {},
   "outputs": [
    {
     "name": "stdout",
     "output_type": "stream",
     "text": [
      "Note: you may need to restart the kernel to use updated packages.\n"
     ]
    }
   ],
   "source": [
    "%pip install tiktoken aiohttp -qU"
   ]
  },
  {
   "cell_type": "code",
   "execution_count": 8,
   "id": "398b63a1",
   "metadata": {},
   "outputs": [
    {
     "name": "stderr",
     "output_type": "stream",
     "text": [
      "2025/05/12 23:58:21 INFO mlflow.models.evaluation.utils.trace: Auto tracing is temporarily enabled during the model evaluation for computing some metrics and debugging. To disable tracing, call `mlflow.autolog(disable=True)`.\n",
      "2025/05/12 23:58:21 INFO mlflow.models.evaluation.evaluators.default: Computing model predictions.\n",
      "INFO:httpx:HTTP Request: POST https://api.openai.com/v1/chat/completions \"HTTP/1.1 200 OK\"\n",
      "INFO:httpx:HTTP Request: POST https://api.openai.com/v1/chat/completions \"HTTP/1.1 200 OK\"\n",
      "INFO:httpx:HTTP Request: POST https://api.openai.com/v1/chat/completions \"HTTP/1.1 200 OK\"\n",
      "INFO:httpx:HTTP Request: POST https://api.openai.com/v1/chat/completions \"HTTP/1.1 200 OK\"\n",
      "INFO:httpx:HTTP Request: POST https://api.openai.com/v1/chat/completions \"HTTP/1.1 200 OK\"\n",
      "2025/05/12 23:58:57 INFO mlflow.models.evaluation.default_evaluator: Testing metrics on first row...\n",
      "2025/05/12 23:58:59 WARNING mlflow.metrics.metric_definitions: Failed to load 'toxicity' metric (error: ModuleNotFoundError(\"No module named 'evaluate'\")), skipping metric logging.\n",
      "2025/05/12 23:58:59 WARNING mlflow.models.evaluation.utils.metric: Did not log metric 'toxicity' at index 1 in the `extra_metrics` parameter because it returned None.\n",
      "2025/05/12 23:58:59 WARNING mlflow.metrics.metric_definitions: Failed to import textstat for flesch kincaid metric, skipping metric logging. Please install textstat using 'pip install textstat'.\n",
      "2025/05/12 23:58:59 WARNING mlflow.models.evaluation.utils.metric: Did not log metric 'flesch_kincaid_grade_level' at index 2 in the `extra_metrics` parameter because it returned None.\n",
      "2025/05/12 23:58:59 WARNING mlflow.metrics.metric_definitions: Failed to import textstat for automated readability index metric, skipping metric logging. Please install textstat using 'pip install textstat'.\n",
      "2025/05/12 23:58:59 WARNING mlflow.models.evaluation.utils.metric: Did not log metric 'ari_grade_level' at index 3 in the `extra_metrics` parameter because it returned None.\n",
      "/Users/michael.berk/opt/anaconda3/envs/odsc-3.10/lib/python3.10/site-packages/tqdm/auto.py:21: TqdmWarning: IProgress not found. Please update jupyter and ipywidgets. See https://ipywidgets.readthedocs.io/en/stable/user_install.html\n",
      "  from .autonotebook import tqdm as notebook_tqdm\n",
      "100%|██████████| 1/1 [00:03<00:00,  3.05s/it]\n",
      "2025/05/12 23:59:02 WARNING mlflow.metrics.metric_definitions: Failed to load 'toxicity' metric (error: ModuleNotFoundError(\"No module named 'evaluate'\")), skipping metric logging.\n",
      "2025/05/12 23:59:02 WARNING mlflow.models.evaluation.utils.metric: Did not log metric 'toxicity' at index 1 in the `extra_metrics` parameter because it returned None.\n",
      "2025/05/12 23:59:02 WARNING mlflow.metrics.metric_definitions: Failed to import textstat for flesch kincaid metric, skipping metric logging. Please install textstat using 'pip install textstat'.\n",
      "2025/05/12 23:59:02 WARNING mlflow.models.evaluation.utils.metric: Did not log metric 'flesch_kincaid_grade_level' at index 2 in the `extra_metrics` parameter because it returned None.\n",
      "2025/05/12 23:59:02 WARNING mlflow.metrics.metric_definitions: Failed to import textstat for automated readability index metric, skipping metric logging. Please install textstat using 'pip install textstat'.\n",
      "2025/05/12 23:59:02 WARNING mlflow.models.evaluation.utils.metric: Did not log metric 'ari_grade_level' at index 3 in the `extra_metrics` parameter because it returned None.\n",
      "100%|██████████| 5/5 [00:04<00:00,  1.09it/s]\n"
     ]
    }
   ],
   "source": [
    "correct_format = mlflow.metrics.genai.make_genai_metric(\n",
    "    name=\"correct_format\",\n",
    "    definition=(\n",
    "        \"\"\"The answer is a list of dicts where keys are `question` and `answer`.\"\"\"\n",
    "    ),\n",
    "    grading_prompt=(\n",
    "        \"\"\"If formatted correctly, return 1. Otherwise, return 0.\"\"\"\n",
    "    ),\n",
    "    model=\"openai:/gpt-4o-mini\",\n",
    "    greater_is_better=True,\n",
    ")\n",
    "\n",
    "def batch_completion(df: pd.DataFrame) -> list[str]:\n",
    "    return [get_completion(image) for image in df[\"inputs\"]]\n",
    "\n",
    "eval_result = mlflow.evaluate(\n",
    "    model=batch_completion,\n",
    "    data=pd.DataFrame({\"inputs\": images, \"truth\": jsons}),\n",
    "    targets=\"truth\",\n",
    "    model_type=\"text\",\n",
    "    extra_metrics=[correct_format],\n",
    ")"
   ]
  },
  {
   "cell_type": "code",
   "execution_count": 9,
   "id": "351c157d",
   "metadata": {},
   "outputs": [
    {
     "name": "stderr",
     "output_type": "stream",
     "text": [
      "Downloading artifacts: 100%|██████████| 1/1 [00:00<00:00, 866.59it/s] \n",
      "Downloading artifacts: 100%|██████████| 1/1 [00:00<00:00, 685.90it/s] \n"
     ]
    },
    {
     "data": {
      "text/html": [
       "<div>\n",
       "<style scoped>\n",
       "    .dataframe tbody tr th:only-of-type {\n",
       "        vertical-align: middle;\n",
       "    }\n",
       "\n",
       "    .dataframe tbody tr th {\n",
       "        vertical-align: top;\n",
       "    }\n",
       "\n",
       "    .dataframe thead th {\n",
       "        text-align: right;\n",
       "    }\n",
       "</style>\n",
       "<table border=\"1\" class=\"dataframe\">\n",
       "  <thead>\n",
       "    <tr style=\"text-align: right;\">\n",
       "      <th></th>\n",
       "      <th>inputs</th>\n",
       "      <th>truth</th>\n",
       "      <th>outputs</th>\n",
       "      <th>token_count</th>\n",
       "      <th>correct_format/v1/score</th>\n",
       "      <th>correct_format/v1/justification</th>\n",
       "    </tr>\n",
       "  </thead>\n",
       "  <tbody>\n",
       "    <tr>\n",
       "      <th>0</th>\n",
       "      <td>/9j/4AAQSkZJRgABAQAAAQABAAD/2wBDABQODxIPDRQSEB...</td>\n",
       "      <td>{'TO:': 'K. A. Sparrow', 'FROM:': 'F. Strickla...</td>\n",
       "      <td>This image is a progress report titled \"MAVERI...</td>\n",
       "      <td>346</td>\n",
       "      <td>0</td>\n",
       "      <td>The output does not follow the required format...</td>\n",
       "    </tr>\n",
       "    <tr>\n",
       "      <th>1</th>\n",
       "      <td>/9j/4AAQSkZJRgABAQAAAQABAAD/2wBDABQODxIPDRQSEB...</td>\n",
       "      <td>{'DATE:': '8/ 10/ 90', 'MANUFACTURER:': 'B &amp; W...</td>\n",
       "      <td>The image is a document titled \"NEW COMPETITIV...</td>\n",
       "      <td>119</td>\n",
       "      <td>0</td>\n",
       "      <td>The output does not follow the required format...</td>\n",
       "    </tr>\n",
       "    <tr>\n",
       "      <th>2</th>\n",
       "      <td>/9j/4AAQSkZJRgABAQAAAQABAAD/2wBDABQODxIPDRQSEB...</td>\n",
       "      <td>{'TO:': 'KELLI SCRUGGS', 'FROM:': 'LEONARD JON...</td>\n",
       "      <td>The image is a \"Coupon Code Registration Form\"...</td>\n",
       "      <td>207</td>\n",
       "      <td>0</td>\n",
       "      <td>The output does not follow the required format...</td>\n",
       "    </tr>\n",
       "    <tr>\n",
       "      <th>3</th>\n",
       "      <td>/9j/4AAQSkZJRgABAQAAAQABAAD/2wBDABQODxIPDRQSEB...</td>\n",
       "      <td>{'Name:': 'Andy McGaan', 'No': '☑', 'Telecopie...</td>\n",
       "      <td>The image is a fax cover sheet from Hunton &amp; W...</td>\n",
       "      <td>350</td>\n",
       "      <td>0</td>\n",
       "      <td>The output does not follow the required format...</td>\n",
       "    </tr>\n",
       "    <tr>\n",
       "      <th>4</th>\n",
       "      <td>/9j/4AAQSkZJRgABAQAAAQABAAD/2wBDABQODxIPDRQSEB...</td>\n",
       "      <td>{'TO:': 'K. A. Sparrow', 'FROM:': 'D. J. Landr...</td>\n",
       "      <td>The image is a progress report document. Here'...</td>\n",
       "      <td>235</td>\n",
       "      <td>0</td>\n",
       "      <td>The output does not match the required format ...</td>\n",
       "    </tr>\n",
       "  </tbody>\n",
       "</table>\n",
       "</div>"
      ],
      "text/plain": [
       "                                              inputs  \\\n",
       "0  /9j/4AAQSkZJRgABAQAAAQABAAD/2wBDABQODxIPDRQSEB...   \n",
       "1  /9j/4AAQSkZJRgABAQAAAQABAAD/2wBDABQODxIPDRQSEB...   \n",
       "2  /9j/4AAQSkZJRgABAQAAAQABAAD/2wBDABQODxIPDRQSEB...   \n",
       "3  /9j/4AAQSkZJRgABAQAAAQABAAD/2wBDABQODxIPDRQSEB...   \n",
       "4  /9j/4AAQSkZJRgABAQAAAQABAAD/2wBDABQODxIPDRQSEB...   \n",
       "\n",
       "                                               truth  \\\n",
       "0  {'TO:': 'K. A. Sparrow', 'FROM:': 'F. Strickla...   \n",
       "1  {'DATE:': '8/ 10/ 90', 'MANUFACTURER:': 'B & W...   \n",
       "2  {'TO:': 'KELLI SCRUGGS', 'FROM:': 'LEONARD JON...   \n",
       "3  {'Name:': 'Andy McGaan', 'No': '☑', 'Telecopie...   \n",
       "4  {'TO:': 'K. A. Sparrow', 'FROM:': 'D. J. Landr...   \n",
       "\n",
       "                                             outputs  token_count  \\\n",
       "0  This image is a progress report titled \"MAVERI...          346   \n",
       "1  The image is a document titled \"NEW COMPETITIV...          119   \n",
       "2  The image is a \"Coupon Code Registration Form\"...          207   \n",
       "3  The image is a fax cover sheet from Hunton & W...          350   \n",
       "4  The image is a progress report document. Here'...          235   \n",
       "\n",
       "   correct_format/v1/score                    correct_format/v1/justification  \n",
       "0                        0  The output does not follow the required format...  \n",
       "1                        0  The output does not follow the required format...  \n",
       "2                        0  The output does not follow the required format...  \n",
       "3                        0  The output does not follow the required format...  \n",
       "4                        0  The output does not match the required format ...  "
      ]
     },
     "execution_count": 9,
     "metadata": {},
     "output_type": "execute_result"
    }
   ],
   "source": [
    "eval_result.tables['eval_results_table']"
   ]
  },
  {
   "cell_type": "code",
   "execution_count": 10,
   "id": "7999d766",
   "metadata": {},
   "outputs": [
    {
     "name": "stdout",
     "output_type": "stream",
     "text": [
      "{'correct_format/v1/mean': np.float64(0.0), 'correct_format/v1/variance': np.float64(0.0), 'correct_format/v1/p90': np.float64(0.0)}\n"
     ]
    }
   ],
   "source": [
    "print(eval_result.metrics)"
   ]
  },
  {
   "cell_type": "markdown",
   "id": "704f6fcf",
   "metadata": {},
   "source": [
    "## Step 3: Go to the UI "
   ]
  },
  {
   "cell_type": "code",
   "execution_count": null,
   "id": "239f9b9e",
   "metadata": {},
   "outputs": [],
   "source": []
  }
 ],
 "metadata": {
  "kernelspec": {
   "display_name": "odsc-3.10",
   "language": "python",
   "name": "python3"
  },
  "language_info": {
   "codemirror_mode": {
    "name": "ipython",
    "version": 3
   },
   "file_extension": ".py",
   "mimetype": "text/x-python",
   "name": "python",
   "nbconvert_exporter": "python",
   "pygments_lexer": "ipython3",
   "version": "3.10.17"
  }
 },
 "nbformat": 4,
 "nbformat_minor": 5
}
